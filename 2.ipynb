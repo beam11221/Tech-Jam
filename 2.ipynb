{
 "cells": [
  {
   "cell_type": "code",
   "execution_count": 28,
   "metadata": {},
   "outputs": [],
   "source": [
    "import pandas as pd\n",
    "\n",
    "demographics = \"C:/Beam/data_pack/demographics.csv\"\n",
    "cc = \"C:/Beam/data_pack/cc.csv\"\n",
    "kPlus = \"C:/Beam/data_pack/kplus.csv\"\n",
    "credit_debit = \"C:/Beam/data_pack/Credit-debit.csv\"\n",
    "\n",
    "demographics = pd.read_csv(demographics)\n",
    "cc = pd.read_csv(cc)\n",
    "kPlus = pd.read_csv(kPlus)\n",
    "cd = pd.read_csv(credit_debit)"
   ]
  },
  {
   "cell_type": "code",
   "execution_count": 29,
   "metadata": {},
   "outputs": [
    {
     "data": {
      "text/html": [
       "<div>\n",
       "<style scoped>\n",
       "    .dataframe tbody tr th:only-of-type {\n",
       "        vertical-align: middle;\n",
       "    }\n",
       "\n",
       "    .dataframe tbody tr th {\n",
       "        vertical-align: top;\n",
       "    }\n",
       "\n",
       "    .dataframe thead th {\n",
       "        text-align: right;\n",
       "    }\n",
       "</style>\n",
       "<table border=\"1\" class=\"dataframe\">\n",
       "  <thead>\n",
       "    <tr style=\"text-align: right;\">\n",
       "      <th></th>\n",
       "      <th>id</th>\n",
       "      <th>cc_no</th>\n",
       "      <th>gender</th>\n",
       "      <th>ocp_cd</th>\n",
       "      <th>age</th>\n",
       "    </tr>\n",
       "  </thead>\n",
       "  <tbody>\n",
       "    <tr>\n",
       "      <th>0</th>\n",
       "      <td>1</td>\n",
       "      <td>1</td>\n",
       "      <td>2</td>\n",
       "      <td>9.0</td>\n",
       "      <td>5</td>\n",
       "    </tr>\n",
       "    <tr>\n",
       "      <th>1</th>\n",
       "      <td>1</td>\n",
       "      <td>98397</td>\n",
       "      <td>2</td>\n",
       "      <td>9.0</td>\n",
       "      <td>5</td>\n",
       "    </tr>\n",
       "    <tr>\n",
       "      <th>2</th>\n",
       "      <td>2</td>\n",
       "      <td>2</td>\n",
       "      <td>2</td>\n",
       "      <td>3.0</td>\n",
       "      <td>4</td>\n",
       "    </tr>\n",
       "    <tr>\n",
       "      <th>3</th>\n",
       "      <td>2</td>\n",
       "      <td>9740</td>\n",
       "      <td>2</td>\n",
       "      <td>3.0</td>\n",
       "      <td>4</td>\n",
       "    </tr>\n",
       "    <tr>\n",
       "      <th>4</th>\n",
       "      <td>3</td>\n",
       "      <td>3</td>\n",
       "      <td>2</td>\n",
       "      <td>1.0</td>\n",
       "      <td>3</td>\n",
       "    </tr>\n",
       "  </tbody>\n",
       "</table>\n",
       "</div>"
      ],
      "text/plain": [
       "   id  cc_no  gender  ocp_cd  age\n",
       "0   1      1       2     9.0    5\n",
       "1   1  98397       2     9.0    5\n",
       "2   2      2       2     3.0    4\n",
       "3   2   9740       2     3.0    4\n",
       "4   3      3       2     1.0    3"
      ]
     },
     "execution_count": 29,
     "metadata": {},
     "output_type": "execute_result"
    }
   ],
   "source": [
    "demographics.head()"
   ]
  },
  {
   "cell_type": "code",
   "execution_count": 30,
   "metadata": {},
   "outputs": [
    {
     "data": {
      "text/html": [
       "<div>\n",
       "<style scoped>\n",
       "    .dataframe tbody tr th:only-of-type {\n",
       "        vertical-align: middle;\n",
       "    }\n",
       "\n",
       "    .dataframe tbody tr th {\n",
       "        vertical-align: top;\n",
       "    }\n",
       "\n",
       "    .dataframe thead th {\n",
       "        text-align: right;\n",
       "    }\n",
       "</style>\n",
       "<table border=\"1\" class=\"dataframe\">\n",
       "  <thead>\n",
       "    <tr style=\"text-align: right;\">\n",
       "      <th></th>\n",
       "      <th>cc_no</th>\n",
       "      <th>pos_dt</th>\n",
       "      <th>cc_txn_amt</th>\n",
       "    </tr>\n",
       "  </thead>\n",
       "  <tbody>\n",
       "    <tr>\n",
       "      <th>0</th>\n",
       "      <td>37069</td>\n",
       "      <td>2018-05-10</td>\n",
       "      <td>5000</td>\n",
       "    </tr>\n",
       "    <tr>\n",
       "      <th>1</th>\n",
       "      <td>37069</td>\n",
       "      <td>2018-06-04</td>\n",
       "      <td>12000</td>\n",
       "    </tr>\n",
       "    <tr>\n",
       "      <th>2</th>\n",
       "      <td>37069</td>\n",
       "      <td>2018-04-03</td>\n",
       "      <td>5000</td>\n",
       "    </tr>\n",
       "    <tr>\n",
       "      <th>3</th>\n",
       "      <td>37069</td>\n",
       "      <td>2018-04-22</td>\n",
       "      <td>1600</td>\n",
       "    </tr>\n",
       "    <tr>\n",
       "      <th>4</th>\n",
       "      <td>37069</td>\n",
       "      <td>2018-01-21</td>\n",
       "      <td>5000</td>\n",
       "    </tr>\n",
       "  </tbody>\n",
       "</table>\n",
       "</div>"
      ],
      "text/plain": [
       "   cc_no      pos_dt  cc_txn_amt\n",
       "0  37069  2018-05-10        5000\n",
       "1  37069  2018-06-04       12000\n",
       "2  37069  2018-04-03        5000\n",
       "3  37069  2018-04-22        1600\n",
       "4  37069  2018-01-21        5000"
      ]
     },
     "execution_count": 30,
     "metadata": {},
     "output_type": "execute_result"
    }
   ],
   "source": [
    "cc.head()"
   ]
  },
  {
   "cell_type": "code",
   "execution_count": 31,
   "metadata": {},
   "outputs": [
    {
     "data": {
      "text/html": [
       "<div>\n",
       "<style scoped>\n",
       "    .dataframe tbody tr th:only-of-type {\n",
       "        vertical-align: middle;\n",
       "    }\n",
       "\n",
       "    .dataframe tbody tr th {\n",
       "        vertical-align: top;\n",
       "    }\n",
       "\n",
       "    .dataframe thead th {\n",
       "        text-align: right;\n",
       "    }\n",
       "</style>\n",
       "<table border=\"1\" class=\"dataframe\">\n",
       "  <thead>\n",
       "    <tr style=\"text-align: right;\">\n",
       "      <th></th>\n",
       "      <th>Card No.</th>\n",
       "      <th>Credit</th>\n",
       "      <th>Debit</th>\n",
       "      <th>User id</th>\n",
       "    </tr>\n",
       "  </thead>\n",
       "  <tbody>\n",
       "    <tr>\n",
       "      <th>0</th>\n",
       "      <td>37069</td>\n",
       "      <td>[5000, 0, 0, 6600, 5000, 12000]</td>\n",
       "      <td>[0, 0, 0, 0, 0, 3500]</td>\n",
       "      <td>1</td>\n",
       "    </tr>\n",
       "    <tr>\n",
       "      <th>1</th>\n",
       "      <td>37201</td>\n",
       "      <td>[1900, 8100, 8600, 2700, 2200, 2200]</td>\n",
       "      <td>[7400, 19600, 23500, 63400, 24900, 71200]</td>\n",
       "      <td>2</td>\n",
       "    </tr>\n",
       "    <tr>\n",
       "      <th>2</th>\n",
       "      <td>39751</td>\n",
       "      <td>[0, 0, 0, 0, 20000, 0]</td>\n",
       "      <td>[15800, 14700, 20200, 49900, 16400, 22700]</td>\n",
       "      <td>3</td>\n",
       "    </tr>\n",
       "    <tr>\n",
       "      <th>3</th>\n",
       "      <td>66095</td>\n",
       "      <td>[21800, 6700, 0, 1100, 21100, 5300]</td>\n",
       "      <td>[1056700, 859000, 715300, 1305500, 729000, 141...</td>\n",
       "      <td>4</td>\n",
       "    </tr>\n",
       "    <tr>\n",
       "      <th>4</th>\n",
       "      <td>9563</td>\n",
       "      <td>[5800, 10600, 21000, 21200, 6200, 39100]</td>\n",
       "      <td>[0, 0, 0, 0, 0, 0]</td>\n",
       "      <td>5</td>\n",
       "    </tr>\n",
       "  </tbody>\n",
       "</table>\n",
       "</div>"
      ],
      "text/plain": [
       "   Card No.                                    Credit  \\\n",
       "0     37069           [5000, 0, 0, 6600, 5000, 12000]   \n",
       "1     37201      [1900, 8100, 8600, 2700, 2200, 2200]   \n",
       "2     39751                    [0, 0, 0, 0, 20000, 0]   \n",
       "3     66095       [21800, 6700, 0, 1100, 21100, 5300]   \n",
       "4      9563  [5800, 10600, 21000, 21200, 6200, 39100]   \n",
       "\n",
       "                                               Debit  User id  \n",
       "0                              [0, 0, 0, 0, 0, 3500]        1  \n",
       "1          [7400, 19600, 23500, 63400, 24900, 71200]        2  \n",
       "2         [15800, 14700, 20200, 49900, 16400, 22700]        3  \n",
       "3  [1056700, 859000, 715300, 1305500, 729000, 141...        4  \n",
       "4                                 [0, 0, 0, 0, 0, 0]        5  "
      ]
     },
     "execution_count": 31,
     "metadata": {},
     "output_type": "execute_result"
    }
   ],
   "source": [
    "cd.head()"
   ]
  },
  {
   "cell_type": "code",
   "execution_count": null,
   "metadata": {},
   "outputs": [],
   "source": []
  },
  {
   "cell_type": "code",
   "execution_count": 32,
   "metadata": {},
   "outputs": [
    {
     "name": "stdout",
     "output_type": "stream",
     "text": [
      "Finish\n"
     ]
    }
   ],
   "source": [
    "# Total credit cards for each user\n",
    "unique_usr_id = demographics[\"id\"].unique()[0:5]\n",
    "usr_id = demographics[\"id\"]\n",
    "cc_no = demographics[\"cc_no\"]\n",
    "card_no = cd[\"Card No.\"]\n",
    "new_card_no = []\n",
    "total_spending = []\n",
    "\n",
    "for i in unique_usr_id:\n",
    "    # Find indices of each usr_id\n",
    "    indices = usr_id[usr_id == i].index.tolist()\n",
    "    cards = []\n",
    "    for idx in indices:\n",
    "        cards.append(cc_no[idx])    # Now, we get all card numbers that user has\n",
    "    \n",
    "    new_card_no.append(cards)\n",
    "    spending = []\n",
    "\n",
    "    for c in cards:\n",
    "        index = card_no[card_no == c].index.tolist()\n",
    "        for idx in index:\n",
    "            spending.append(cd[\"Credit\"][idx])\n",
    "            \n",
    "    total_spending.append(spending)\n",
    "\n",
    "print(\"Finish\")\n",
    "\n"
   ]
  },
  {
   "cell_type": "code",
   "execution_count": 33,
   "metadata": {},
   "outputs": [
    {
     "name": "stdout",
     "output_type": "stream",
     "text": [
      "card_no [[1, 98397], [2, 9740], [3], [4, 86813], [5]]\n"
     ]
    }
   ],
   "source": [
    "print(\"card_no\", new_card_no)"
   ]
  },
  {
   "cell_type": "code",
   "execution_count": 34,
   "metadata": {},
   "outputs": [
    {
     "name": "stdout",
     "output_type": "stream",
     "text": [
      "total [['[4700, 20000, 0, 0, 10000, 10000]'], ['[0, 0, 4600, 18700, 1600, 2000]', '[6600, 5700, 4100, 11700, 0, 10200]'], [], ['[0, 0, 0, 0, 300000, 240000]', '[0, 0, 0, 230000, 0, 0]'], ['[7000, 5000, 0, 0, 0, 0]']]\n"
     ]
    }
   ],
   "source": [
    "print(\"total\", total_spending)"
   ]
  },
  {
   "cell_type": "code",
   "execution_count": 35,
   "metadata": {},
   "outputs": [
    {
     "name": "stdout",
     "output_type": "stream",
     "text": [
      "Try exported\n"
     ]
    }
   ],
   "source": [
    "try:\n",
    "    data = {\n",
    "        \"cc_no\": new_card_no,\n",
    "        \"among\": total_spending,\n",
    "        \"usr_id\": unique_usr_id.tolist()\n",
    "    }\n",
    "    df_data = pd.DataFrame.from_dict(data)\n",
    "\n",
    "    export_csv = df_data.to_csv (r'Credit.csv', index = None, header=True)\n",
    "    \n",
    "    print(\"Try exported\")\n",
    "\n",
    "except:\n",
    "    data = {\n",
    "        \"usr_id\": unique_usr_id\n",
    "    }\n",
    "    df_data = pd.DataFrame.from_dict(data)\n",
    "    export_csv = df_data.to_csv (r'usr_id.csv', index = None, header=True)\n",
    "    \n",
    "    data = {\n",
    "        \"cc_no\": new_card_no\n",
    "    }\n",
    "    df_data = pd.DataFrame.from_dict(data)\n",
    "    export_csv = df_data.to_csv (r'cc_no_.csv', index = None, header=True)\n",
    "    \n",
    "    data = {\n",
    "        \"among\": total_spending\n",
    "    }\n",
    "    df_data = pd.DataFrame.from_dict(data)\n",
    "    export_csv = df_data.to_csv (r'among.csv', index = None, header=True)\n",
    "    \n",
    "    print(\"Except\")\n",
    "    "
   ]
  }
 ],
 "metadata": {
  "kernelspec": {
   "display_name": "Python 3",
   "language": "python",
   "name": "python3"
  },
  "language_info": {
   "codemirror_mode": {
    "name": "ipython",
    "version": 3
   },
   "file_extension": ".py",
   "mimetype": "text/x-python",
   "name": "python",
   "nbconvert_exporter": "python",
   "pygments_lexer": "ipython3",
   "version": "3.5.4"
  }
 },
 "nbformat": 4,
 "nbformat_minor": 2
}
